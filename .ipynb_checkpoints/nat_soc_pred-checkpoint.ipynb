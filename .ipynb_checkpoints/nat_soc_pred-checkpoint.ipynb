{
 "cells": [
  {
   "cell_type": "markdown",
   "id": "90c95abb-8000-48a9-9c22-4a43d17607a7",
   "metadata": {},
   "source": [
    "### SHERLOCK EP 1 to PREDICT FRIEND OR FOE"
   ]
  },
  {
   "cell_type": "code",
   "execution_count": 1,
   "id": "613ca983-cafd-4907-872f-a79cd8941a35",
   "metadata": {},
   "outputs": [],
   "source": [
    "import os\n",
    "import glob\n",
    "import sys\n",
    "import numpy as np\n",
    "import pandas as pd\n",
    "import seaborn as sns\n",
    "import matplotlib.pyplot as plt\n",
    "import matplotlib.ticker as ticker\n",
    "from scipy import stats\n",
    "from scipy.stats import pearsonr"
   ]
  },
  {
   "cell_type": "code",
   "execution_count": null,
   "id": "27dea9e7-705d-4ca4-9cb0-98f403cdab9a",
   "metadata": {},
   "outputs": [],
   "source": []
  },
  {
   "cell_type": "code",
   "execution_count": null,
   "id": "6e8855a6-e984-4e9f-bfeb-f7754aaaff17",
   "metadata": {},
   "outputs": [],
   "source": [
    "from pliers.tests.utils import get_test_data_path\n",
    "from os.path import join\n",
    "from pliers.filters import FrameSamplingFilter\n",
    "from pliers.converters import GoogleSpeechAPIConverter\n",
    "from pliers.extractors import (ClarifaiAPIImageExtractor, GoogleVisionAPIFaceExtractor,\n",
    "                               ComplexTextExtractor, PredefinedDictionaryExtractor,\n",
    "                               STFTAudioExtractor, VADERSentimentExtractor,\n",
    "                               merge_results)\n",
    "\n",
    "video = join(get_test_data_path(), 'video', 'obama_speech.mp4')\n",
    "\n",
    "# Store all the returned features in a single list (nested lists\n",
    "# are fine, the merge_results function will flatten everything)\n",
    "features = []\n",
    "\n",
    "# Sample video frames and apply the image-based extractors\n",
    "sampler = FrameSamplingFilter(every=10)\n",
    "frames = sampler.transform(video)\n",
    "\n",
    "obj_ext = ClarifaiAPIImageExtractor()\n",
    "obj_features = obj_ext.transform(frames)\n",
    "features.append(obj_features)\n",
    "\n",
    "face_ext = GoogleVisionAPIFaceExtractor()\n",
    "face_features = face_ext.transform(frames)\n",
    "features.append(face_features)\n",
    "\n",
    "# Power in speech frequencies\n",
    "stft_ext = STFTAudioExtractor(freq_bins=[(100, 300)])\n",
    "speech_features = stft_ext.transform(video)\n",
    "features.append(speech_features)\n",
    "\n",
    "# Explicitly transcribe the video--we could also skip this step\n",
    "# and it would be done implicitly, but this way we can specify\n",
    "# that we want to use the Google Cloud Speech API rather than\n",
    "# the package default (IBM Watson)\n",
    "text_conv = GoogleSpeechAPIConverter()\n",
    "text = text_conv.transform(video)\n",
    "\n",
    "# Text-based features\n",
    "text_ext = ComplexTextExtractor()\n",
    "text_features = text_ext.transform(text)\n",
    "features.append(text_features)\n",
    "\n",
    "dict_ext = PredefinedDictionaryExtractor(\n",
    "    variables=['affect/V.Mean.Sum', 'subtlexusfrequency/Lg10WF'])\n",
    "norm_features = dict_ext.transform(text)\n",
    "features.append(norm_features)\n",
    "\n",
    "sent_ext = VADERSentimentExtractor()\n",
    "sent_features = sent_ext.transform(text)\n",
    "features.append(sent_features)\n",
    "\n",
    "# Ask for data in 'long' format, and code extractor name as a separate\n",
    "# column instead of prepending it to feature names.\n",
    "df = merge_results(features, format='long', extractor_names='column')\n",
    "\n",
    "# Output rows in a sensible order\n",
    "df.sort_values(['extractor', 'feature', 'onset', 'duration', 'order']).head(10)"
   ]
  }
 ],
 "metadata": {
  "kernelspec": {
   "display_name": "work",
   "language": "python",
   "name": "work"
  },
  "language_info": {
   "codemirror_mode": {
    "name": "ipython",
    "version": 3
   },
   "file_extension": ".py",
   "mimetype": "text/x-python",
   "name": "python",
   "nbconvert_exporter": "python",
   "pygments_lexer": "ipython3",
   "version": "3.7.16"
  }
 },
 "nbformat": 4,
 "nbformat_minor": 5
}
