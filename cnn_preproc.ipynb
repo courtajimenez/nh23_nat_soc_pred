{
 "cells": [
  {
   "cell_type": "code",
   "execution_count": 1,
   "id": "84c6eb2a-e1f2-41cf-abd8-a10146296ed6",
   "metadata": {
    "tags": []
   },
   "outputs": [],
   "source": [
    "def load_aws_credentials(profile_name):\n",
    "    \"Returns (access_key, secred_key) from ~/.aws/credentials for the given profile.\"\n",
    "    import boto3\n",
    "    ses = boto3.Session(profile_name=profile_name)\n",
    "    creds = ses.get_credentials()\n",
    "    return (creds.access_key, creds.secret_key)"
   ]
  },
  {
   "cell_type": "code",
   "execution_count": 2,
   "id": "91658531-895c-4940-ade3-43c15b959d5a",
   "metadata": {
    "tags": []
   },
   "outputs": [
    {
     "name": "stderr",
     "output_type": "stream",
     "text": [
      "pixdim[1,2,3] should be non-zero; setting 0 dims to 1\n"
     ]
    }
   ],
   "source": [
    "import neuropythy as ny\n",
    "\n",
    "ny.config['hcp_credentials'] = load_aws_credentials('hcp')\n",
    "\n",
    "filename = '/home/jovyan/shared/HCP/115825/MNINonLinear/Results/tfMRI_MOVIE2_7T_PA/tfMRI_MOVIE2_7T_PA_Atlas_1.6mm_MSMAll_hp2000_clean.dtseries.nii'\n",
    "cii = ny.load(filename)\n",
    "(lh_bold, rh_bold, subcortex_bold) = ny.hcp.cifti_split(cii)"
   ]
  },
  {
   "cell_type": "code",
   "execution_count": 3,
   "id": "c661ed55-76b6-41a6-8da8-20cd9bfd7907",
   "metadata": {
    "tags": []
   },
   "outputs": [
    {
     "data": {
      "text/plain": [
       "(918, 59292)"
      ]
     },
     "execution_count": 3,
     "metadata": {},
     "output_type": "execute_result"
    }
   ],
   "source": [
    "lh_bold.shape"
   ]
  },
  {
   "cell_type": "code",
   "execution_count": 9,
   "id": "9a893d2e-1a0b-482b-9bb4-0b375c140a1f",
   "metadata": {
    "tags": []
   },
   "outputs": [],
   "source": [
    "import numpy as np\n",
    "import matplotlib.pyplot as plt\n",
    "\n",
    "sid = 111312\n",
    "sub = ny.hcp_subject(sid)\n",
    "lh = sub.hemis['lh_LR59k']\n",
    "rh = sub.hemis['rh_LR59k']\n",
    "view_pos = np.array([0, 100.0, 0])\n",
    "lh_mproj_front = ny.map_projection(chirality='lh', registration='fs_LR', center=view_pos, radius=np.pi/2)\n",
    "lh_mproj_back = ny.map_projection(chirality='lh', registration='fs_LR', center=-view_pos, radius=np.pi/2)\n",
    "rh_mproj_front = ny.map_projection(chirality='rh', registration='fs_LR', center=view_pos, radius=np.pi/2)\n",
    "rh_mproj_back = ny.map_projection(chirality='rh', registration='fs_LR', center=-view_pos, radius=np.pi/2)\n",
    "lh_fmap_front = ny.to_flatmap(lh_mproj_front, lh)\n",
    "lh_fmap_back = ny.to_flatmap(lh_mproj_back, lh)\n",
    "rh_fmap_front = ny.to_flatmap(rh_mproj_front, rh)\n",
    "rh_fmap_back = ny.to_flatmap(rh_mproj_back, rh)"
   ]
  },
  {
   "cell_type": "code",
   "execution_count": 13,
   "id": "c92ed72f-3a3c-44bd-a88d-de38249809bd",
   "metadata": {},
   "outputs": [],
   "source": [
    "def sub_channel(lh_data, rh_data):\n",
    "    (fig, axs) = plt.subplots(2, 2, figsize=(2,2), dpi=72*4)\n",
    "    ny.cortex_plot(lh_fmap_front, axes=axs[0,0], color=lh_data[lh_fmap_front.labels], cmap='gray')\n",
    "    ny.cortex_plot(lh_fmap_back, axes=axs[1,0], color=lh_data[lh_fmap_back.labels], cmap='gray')\n",
    "    ny.cortex_plot(rh_fmap_front, axes=axs[0,1], color=rh_data[rh_fmap_front.labels], cmap='gray')\n",
    "    ny.cortex_plot(rh_fmap_back, axes=axs[1,1], color=rh_data[rh_fmap_back.labels], cmap='gray')\n",
    "    fig.subplots_adjust(0,0,1,1,0,0)\n",
    "    for ax in axs.flatten():\n",
    "        ax.axis('off')\n",
    "    return fig"
   ]
  },
  {
   "cell_type": "code",
   "execution_count": 21,
   "id": "4cedae24-77db-4841-8844-61ea4b2dd182",
   "metadata": {
    "tags": []
   },
   "outputs": [
    {
     "name": "stdout",
     "output_type": "stream",
     "text": [
      "['115825']\n"
     ]
    }
   ],
   "source": [
    "import os\n",
    "\n",
    "# Scrape HCP folder for subject IDs. Outputs a list of subject IDs\n",
    "subj_id = []\n",
    "path = '/home/jovyan/shared/HCP/'\n",
    "for dir in os.listdir(path):\n",
    "    parts = dir.split('.')\n",
    "    subj_id.append(parts[0])\n",
    "    # using list comprehension + enumerate() to remove duplicated from list\n",
    "subj_id = [i for n, i in enumerate(subj_id) if i not in subj_id[:n]]\n",
    "print(subj_id)"
   ]
  },
  {
   "cell_type": "code",
   "execution_count": null,
   "id": "e3f2afe8-b85b-4fac-99a3-8740b52fe99d",
   "metadata": {},
   "outputs": [],
   "source": [
    "for sid in subj_id:\n",
    "    filename = path + sid + '/MNINonLinear/Results/tfMRI_MOVIE2_7T_PA/tfMRI_MOVIE2_7T_PA_Atlas_1.6mm_MSMAll_hp2000_clean.dtseries.nii'\n",
    "    cii = ny.load(filename)\n",
    "    (lh_bold, rh_bold, subcortex_bold) = ny.hcp.cifti_split(cii)\n",
    "    sub_channel(lh_bold[10], rh_bold[10])\n",
    "    plt.savefig('filename.png')"
   ]
  }
 ],
 "metadata": {
  "kernelspec": {
   "display_name": "Python 3 (ipykernel)",
   "language": "python",
   "name": "python3"
  },
  "language_info": {
   "codemirror_mode": {
    "name": "ipython",
    "version": 3
   },
   "file_extension": ".py",
   "mimetype": "text/x-python",
   "name": "python",
   "nbconvert_exporter": "python",
   "pygments_lexer": "ipython3",
   "version": "3.10.11"
  }
 },
 "nbformat": 4,
 "nbformat_minor": 5
}
