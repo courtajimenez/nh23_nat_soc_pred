{
 "cells": [
  {
   "cell_type": "markdown",
   "id": "90c95abb-8000-48a9-9c22-4a43d17607a7",
   "metadata": {},
   "source": [
    "### HCP MOVIE2: FACIAL IDENTITY FEATURE EXTRACTION"
   ]
  },
  {
   "cell_type": "code",
   "execution_count": 1,
   "id": "613ca983-cafd-4907-872f-a79cd8941a35",
   "metadata": {},
   "outputs": [],
   "source": [
    "import os\n",
    "import sys\n",
    "import glob\n",
    "import numpy as np\n",
    "import pandas as pd\n",
    "import seaborn as sns\n",
    "import matplotlib.pyplot as plt\n",
    "\n",
    "import dlib\n",
    "import face_recognition\n",
    "import pliers"
   ]
  },
  {
   "cell_type": "markdown",
   "id": "ea561261-954d-4d4e-adc0-97c4eef792b1",
   "metadata": {},
   "source": [
    "#### IMPORT VIDEO"
   ]
  },
  {
   "cell_type": "code",
   "execution_count": 2,
   "id": "4561c491-292d-46de-8c0d-1e155473f5f3",
   "metadata": {},
   "outputs": [],
   "source": [
    "### get stimuli\n",
    "hcp_video = '7T_MOVIE2_HO1.mp4'\n",
    "\n",
    "### read video into pliers\n",
    "from pliers.stimuli import VideoStim\n",
    "video = VideoStim(hcp_video)\n",
    "\n",
    "### downsample video frames (1 frame/second)\n",
    "from pliers.filters import FrameSamplingFilter\n",
    "filt = FrameSamplingFilter(hertz=1)\n",
    "selected_frames = filt.transform(video)\n",
    "n_frames = selected_frames.n_frames"
   ]
  },
  {
   "cell_type": "markdown",
   "id": "ca98d2d5-b7c9-44c5-a24f-4aa6c0214921",
   "metadata": {},
   "source": [
    "#### GET TIME SERIES OF FACES"
   ]
  },
  {
   "cell_type": "code",
   "execution_count": 3,
   "id": "27dea9e7-705d-4ca4-9cb0-98f403cdab9a",
   "metadata": {},
   "outputs": [
    {
     "name": "stderr",
     "output_type": "stream",
     "text": [
      "2023-08-18 08:43:23.856471: I tensorflow/core/platform/cpu_feature_guard.cc:182] This TensorFlow binary is optimized to use available CPU instructions in performance-critical operations.\n",
      "To enable the following instructions: AVX2 FMA, in other operations, rebuild TensorFlow with the appropriate compiler flags.\n",
      "Stim: 919it [2:16:50,  8.93s/it]\n"
     ]
    }
   ],
   "source": [
    "# specify convolutional neural network extractor\n",
    "from pliers.extractors import FaceRecognitionFaceLocationsExtractor\n",
    "face_ext = FaceRecognitionFaceLocationsExtractor(model='cnn')\n",
    "\n",
    "# detect faces in selected frames\n",
    "face_features = face_ext.transform(selected_frames)\n",
    "\n",
    "from pliers.extractors import merge_results\n",
    "merged_faces = merge_results(face_features, metadata=False)"
   ]
  },
  {
   "cell_type": "code",
   "execution_count": 5,
   "id": "b3f6e960-7e5f-4f3a-9435-f4181ab32403",
   "metadata": {},
   "outputs": [],
   "source": [
    "merged_faces.to_csv('hcp_movie2_face_detection.csv')"
   ]
  }
 ],
 "metadata": {
  "kernelspec": {
   "display_name": "Python 3 (ipykernel)",
   "language": "python",
   "name": "python3"
  },
  "language_info": {
   "codemirror_mode": {
    "name": "ipython",
    "version": 3
   },
   "file_extension": ".py",
   "mimetype": "text/x-python",
   "name": "python",
   "nbconvert_exporter": "python",
   "pygments_lexer": "ipython3",
   "version": "3.11.4"
  }
 },
 "nbformat": 4,
 "nbformat_minor": 5
}
